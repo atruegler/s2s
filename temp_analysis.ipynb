{
 "cells": [
  {
   "cell_type": "markdown",
   "metadata": {},
   "source": [
    "# Snow2School Data Analysis\n",
    "\n",
    "This notebook is an example of how to analyze data with the programming language Python.\n",
    "\n",
    "First you need to import temperature data from a file, then this data is plotted in a figure."
   ]
  },
  {
   "cell_type": "markdown",
   "metadata": {},
   "source": [
    "## Import data from a file"
   ]
  },
  {
   "cell_type": "code",
   "execution_count": null,
   "metadata": {},
   "outputs": [],
   "source": [
    "# ## Import Libraries\n",
    "import pandas as pd\n",
    "import matplotlib.pyplot as plt\n",
    "import matplotlib.dates as mdates\n",
    "\n",
    "# ## Load Data from CSV\n",
    "# Specify the path to your CSV file\n",
    "csv_file_path = 'data/tempdata.csv'\n",
    "\n",
    "# Load the CSV file into this notebook...\n",
    "df = pd.read_csv(csv_file_path)"
   ]
  },
  {
   "cell_type": "markdown",
   "metadata": {},
   "source": [
    "## Plot some lines of the imported data"
   ]
  },
  {
   "cell_type": "code",
   "execution_count": null,
   "metadata": {},
   "outputs": [],
   "source": [
    "# ## Data Inspection and Preparation\n",
    "# Print the first few rows of the DataFrame to understand its structure\n",
    "print(\"First few rows of the data:\")\n",
    "print(df.head())\n",
    "print(\"\\n\")\n",
    "\n",
    "# Merge Date and Time into a single DateTime column\n",
    "df[\"Datetime\"] = pd.to_datetime(df[\"Date\"] + \" \" + df[\"Time\"], format=\"%d.%m.%Y %H:%M:%S\")"
   ]
  },
  {
   "cell_type": "markdown",
   "metadata": {},
   "source": [
    "## Plot the data"
   ]
  },
  {
   "cell_type": "code",
   "execution_count": null,
   "metadata": {},
   "outputs": [],
   "source": [
    "# ## Enhanced Plotting\n",
    "# Create a figure and an axes object\n",
    "fig, ax = plt.subplots(figsize=(14, 7))\n",
    "\n",
    "# Plot the temperature data against the date\n",
    "ax.plot(df['Datetime'], df['Temperature'], marker='o', linestyle='-', color='skyblue', linewidth=1.5, markersize=5, label='Temperature [°C]')\n",
    "\n",
    "# Set the title of the plot with a larger font size\n",
    "ax.set_title('Daily Temperature in Uummannaq', fontsize=18)\n",
    "\n",
    "# Set more descriptive and styled labels for the x and y axes\n",
    "ax.set_xlabel('Date', fontsize=14, fontweight='bold')\n",
    "ax.set_ylabel('Temperature [°C]', fontsize=14, fontweight='bold')\n",
    "\n",
    "# Add a legend with a larger font size\n",
    "ax.legend(fontsize=12)\n",
    "\n",
    "# Format the x-axis to display dates nicely\n",
    "ax.xaxis.set_major_locator(mdates.AutoDateLocator())\n",
    "date_format = mdates.DateFormatter('%d-%m-%Y')\n",
    "plt.gca().xaxis.set_major_formatter(date_format)\n",
    "plt.xticks(rotation=45, ha='right')  # Rotate x-axis labels for better readability\n",
    "\n",
    "# Customize the grid lines\n",
    "ax.grid(True, linestyle='--', alpha=0.7)\n",
    "\n",
    "# Improve tick parameters\n",
    "ax.tick_params(axis='both', which='major', labelsize=12)\n",
    "\n",
    "# Add horizontal line at 0 degrees Celsius for reference\n",
    "ax.axhline(0, color='red', linestyle='--', linewidth=0.8, label='Freezing Point')\n",
    "ax.legend(fontsize=12) # Ensure the freezing point legend is also displayed\n",
    "\n",
    "# Add a text annotation...\n",
    "if not df['Temperature'].empty:\n",
    "    min_temp = df['Temperature'].min()\n",
    "    max_temp = df['Temperature'].max()\n",
    "    ax.text(0.05, 0.95, f'Min Temp: {min_temp}°C\\nMax Temp: {max_temp}°C',\n",
    "            transform=ax.transAxes, fontsize=10, verticalalignment='top',\n",
    "            bbox=dict(facecolor='white', alpha=0.8, boxstyle='round,pad=0.5'))\n",
    "\n",
    "# Remove top and right spines for a cleaner look (optional)\n",
    "ax.spines['top'].set_visible(False)\n",
    "ax.spines['right'].set_visible(False)\n",
    "\n",
    "# Display the plot with tight layout\n",
    "plt.tight_layout()\n",
    "plt.show()"
   ]
  },
  {
   "cell_type": "code",
   "execution_count": null,
   "metadata": {},
   "outputs": [],
   "source": []
  }
 ],
 "metadata": {
  "kernelspec": {
   "display_name": "Python 3",
   "language": "python",
   "name": "python3"
  },
  "language_info": {
   "codemirror_mode": {
    "name": "ipython",
    "version": 3
   },
   "file_extension": ".py",
   "mimetype": "text/x-python",
   "name": "python",
   "nbconvert_exporter": "python",
   "pygments_lexer": "ipython3",
   "version": "3.6.15"
  }
 },
 "nbformat": 4,
 "nbformat_minor": 4
}
